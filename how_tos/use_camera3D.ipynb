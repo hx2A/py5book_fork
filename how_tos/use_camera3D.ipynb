{
 "cells": [
  {
   "cell_type": "markdown",
   "id": "b9d0f4a7-2e63-40be-9398-55be35628bd8",
   "metadata": {
    "editable": true,
    "slideshow": {
     "slide_type": ""
    },
    "tags": []
   },
   "source": [
    "# How to Use Camera3D\n",
    "\n",
    "This is a simple demonstration of how you can use py5 with the Processing library Camera3D."
   ]
  },
  {
   "cell_type": "markdown",
   "id": "75e34f26-8406-4ac8-a203-e210c739b12b",
   "metadata": {
    "editable": true,
    "slideshow": {
     "slide_type": ""
    },
    "tags": []
   },
   "source": [
    "## Import Jars\n",
    "\n",
    "Camera3D is a Processing library, and therefore the library itself is written in Java. The library is stored in a Jar file that must be added to the Java classpath. The simplest way to do this is to use py5's\n",
    "built in support for downloading Processing libraries and adding them to the classpath.\n",
    "\n",
    "Use the [](/reference/py5tools_processing_download_library) function to download and install Camera3D to the [Processing library install directory](py5tools_processing_library_storage_dir). This only needs to be done once for each computer."
   ]
  },
  {
   "cell_type": "code",
   "execution_count": 1,
   "id": "dd2774c2-5db1-4e14-962f-3d11c40a840d",
   "metadata": {
    "editable": true,
    "slideshow": {
     "slide_type": ""
    },
    "tags": []
   },
   "outputs": [
    {
     "data": {
      "text/plain": [
       "{'name': 'Camera 3D',\n",
       " 'version': '7',\n",
       " 'prettyVersion': '1.2.4',\n",
       " 'downloadDate': datetime.datetime(2025, 5, 10, 22, 20, 48),\n",
       " 'dir': 'Camera3D'}"
      ]
     },
     "execution_count": 1,
     "metadata": {},
     "output_type": "execute_result"
    }
   ],
   "source": [
    "import time\n",
    "\n",
    "import py5_tools\n",
    "\n",
    "py5_tools.processing.download_library('Camera 3D')"
   ]
  },
  {
   "cell_type": "markdown",
   "id": "56722f6f-73f4-407d-be55-ca0a992e1323",
   "metadata": {
    "editable": true,
    "slideshow": {
     "slide_type": ""
    },
    "tags": []
   },
   "source": [
    "## Import py5\n",
    "\n",
    "Import the py5 library. When the library is imported the Java Virtual Machine (JVM) is started. Any additions or changes to the Java classpath must be done before importing py5."
   ]
  },
  {
   "cell_type": "code",
   "execution_count": 2,
   "id": "da1f087c-7292-4cdc-a92a-be38354b0ab1",
   "metadata": {
    "editable": true,
    "slideshow": {
     "slide_type": ""
    },
    "tags": []
   },
   "outputs": [
    {
     "name": "stdout",
     "output_type": "stream",
     "text": [
      "Importing py5 on macOS but the necessary Jupyter macOS event loop has not been activated. I'll activate it for you, but next time, execute `%gui osx` before importing this library.\n"
     ]
    }
   ],
   "source": [
    "import py5"
   ]
  },
  {
   "cell_type": "markdown",
   "id": "0fffecd4-2b07-4956-b825-475839b22482",
   "metadata": {
    "editable": true,
    "slideshow": {
     "slide_type": ""
    },
    "tags": []
   },
   "source": [
    "## Import Camera3D\n",
    "\n",
    "The following line of code will allow us to create an instance of the Camera3D class in the `setup()` method."
   ]
  },
  {
   "cell_type": "code",
   "execution_count": 3,
   "id": "8feedca5-3695-450a-9d7d-8781eaa5c6a4",
   "metadata": {
    "editable": true,
    "slideshow": {
     "slide_type": ""
    },
    "tags": []
   },
   "outputs": [],
   "source": [
    "from camera3D import Camera3D"
   ]
  },
  {
   "cell_type": "markdown",
   "id": "ea4fdaf2-970d-40ba-b97a-12c30f9a3dde",
   "metadata": {
    "editable": true,
    "slideshow": {
     "slide_type": ""
    },
    "tags": []
   },
   "source": [
    "There is no actual Python package called camera3D that `from camera3D import Camera3D` is importing from. The reason why the previous cell works is because of some jpype import magic activated with `import jpype.imports` in the first cell. After the next py5 release this will be activated for you, so there will no longer be a need to import `jpype.imports` explicitly.\n",
    "\n",
    "## Define Global Variables\n",
    "\n",
    "Define some global variables that will be used by the Sketch."
   ]
  },
  {
   "cell_type": "code",
   "execution_count": 4,
   "id": "b0448c3c-879b-45aa-b10e-b32e559e1bfc",
   "metadata": {
    "editable": true,
    "slideshow": {
     "slide_type": ""
    },
    "tags": []
   },
   "outputs": [],
   "source": [
    "rot_x = 0\n",
    "rot_y = 0\n",
    "rot_z = 0"
   ]
  },
  {
   "cell_type": "markdown",
   "id": "aa1b9bbe-3410-4160-a4f4-d0e3f9fce164",
   "metadata": {
    "editable": true,
    "slideshow": {
     "slide_type": ""
    },
    "tags": []
   },
   "source": [
    "## Define `setup` Method\n",
    "\n",
    "The setup method will set the frame rate and other basic setup stuff. It will also create an instance of Camera3D and set some Camera3D options."
   ]
  },
  {
   "cell_type": "code",
   "execution_count": 5,
   "id": "a4ad4653-7f8b-4700-b99e-9129ddcf90e1",
   "metadata": {
    "editable": true,
    "slideshow": {
     "slide_type": ""
    },
    "tags": []
   },
   "outputs": [],
   "source": [
    "def setup():\n",
    "    py5.size(400, 400, py5.P3D)\n",
    "    py5.frame_rate(30)\n",
    "    py5.stroke_weight(8)\n",
    "    py5.stroke(0)\n",
    "    py5.no_fill()\n",
    "\n",
    "    camera3D = Camera3D(py5.get_current_sketch())\n",
    "    camera3D.setBackgroundColor(py5.color(192))\n",
    "    camera3D.renderDefaultAnaglyph().setDivergence(1)"
   ]
  },
  {
   "cell_type": "markdown",
   "id": "c1b6720c-72df-4315-863b-3a763b7fd803",
   "metadata": {
    "editable": true,
    "slideshow": {
     "slide_type": ""
    },
    "tags": []
   },
   "source": [
    "## Define `pre_draw` Method\n",
    "\n",
    "The `pre_draw` method is a Camera3D addition that runs once before any calls to the `draw` method. Camera3D will call the `draw` method multiple times per frame. It is helpful to have the ability to have some code run only once per frame instead of multiple times. In this case, we are adjusting the rotation variables."
   ]
  },
  {
   "cell_type": "code",
   "execution_count": 6,
   "id": "34150df6-2e2f-4f90-9d90-a79a6decab4a",
   "metadata": {
    "editable": true,
    "slideshow": {
     "slide_type": ""
    },
    "tags": []
   },
   "outputs": [],
   "source": [
    "def pre_draw():\n",
    "    global rot_x, rot_y, rot_z\n",
    "    rot_x += 0.8\n",
    "    rot_y += 0.3\n",
    "    rot_z += 0.5"
   ]
  },
  {
   "cell_type": "markdown",
   "id": "d85936c5-0309-4d03-b9a5-b3307bd51c66",
   "metadata": {
    "editable": true,
    "slideshow": {
     "slide_type": ""
    },
    "tags": []
   },
   "source": [
    "## Define `draw` Method\n",
    "\n",
    "The draw method will do some transformations and draw a box."
   ]
  },
  {
   "cell_type": "code",
   "execution_count": 7,
   "id": "1fc86055-85b7-4ce3-8c31-1757f7156b8a",
   "metadata": {
    "editable": true,
    "slideshow": {
     "slide_type": ""
    },
    "tags": []
   },
   "outputs": [],
   "source": [
    "def draw():\n",
    "    py5.translate(py5.width / 2, py5.height / 2, -200)\n",
    "    py5.rotate_x(py5.radians(rot_x))\n",
    "    py5.rotate_y(py5.radians(rot_y))\n",
    "    py5.rotate_z(py5.radians(rot_z))\n",
    "\n",
    "    py5.box(250)"
   ]
  },
  {
   "cell_type": "markdown",
   "id": "2631175c-f8ea-4617-b525-eafb9f89e8f9",
   "metadata": {
    "editable": true,
    "slideshow": {
     "slide_type": ""
    },
    "tags": []
   },
   "source": [
    "## Define `post_draw` Method\n",
    "\n",
    "Similar to `pre_draw`, the `post_draw` method is run after all calls to the `draw` method. This `post_draw` method doesn't do anything, but we will need it for reasons that will be clear later."
   ]
  },
  {
   "cell_type": "code",
   "execution_count": 8,
   "id": "65d3e279-0a12-4c6b-a0e4-6eae6ebf323e",
   "metadata": {
    "editable": true,
    "slideshow": {
     "slide_type": ""
    },
    "tags": []
   },
   "outputs": [],
   "source": [
    "def post_draw():\n",
    "    pass"
   ]
  },
  {
   "cell_type": "markdown",
   "id": "72fb7f80-3365-4806-8827-a18f38e86d40",
   "metadata": {
    "editable": true,
    "slideshow": {
     "slide_type": ""
    },
    "tags": []
   },
   "source": [
    "## Run the Sketch\n",
    "\n",
    "Run the sketch, opening a window on the display. If you are runnning this notebook locally, you will see a new window open for the running Sketch."
   ]
  },
  {
   "cell_type": "code",
   "execution_count": 9,
   "id": "fbfbe627-0f71-4da2-9d32-0a4772bdf3ad",
   "metadata": {
    "editable": true,
    "slideshow": {
     "slide_type": ""
    },
    "tags": []
   },
   "outputs": [
    {
     "name": "stdout",
     "output_type": "stream",
     "text": [
      "Camera 3D 1.2.4 by Jim Schmitz https://ixora.io\n"
     ]
    }
   ],
   "source": [
    "py5.run_sketch()"
   ]
  },
  {
   "cell_type": "markdown",
   "id": "66c4a491-7028-437f-9dbd-9c376a698aff",
   "metadata": {
    "editable": true,
    "slideshow": {
     "slide_type": ""
    },
    "tags": []
   },
   "source": [
    "Here's a screenshot, so readers of the static documentation website can understand what is happening:"
   ]
  },
  {
   "cell_type": "code",
   "execution_count": 10,
   "id": "b05a1c53-7f8d-41f3-b72b-82b1a49f3be1",
   "metadata": {
    "editable": true,
    "slideshow": {
     "slide_type": ""
    },
    "tags": []
   },
   "outputs": [
    {
     "data": {
      "application/vnd.jupyter.widget-view+json": {
       "model_id": "9c6b360b44374ed7b9bf640d95449c6e",
       "version_major": 2,
       "version_minor": 0
      },
      "text/plain": [
       "Output(layout=Layout(max_height='200px', overflow='auto'))"
      ]
     },
     "metadata": {},
     "output_type": "display_data"
    },
    {
     "data": {
      "image/jpeg": "[encoded data removed]",
      "image/png": "[encoded data removed]",
      "text/plain": [
       "<PIL.Image.Image image mode=RGB size=400x400>"
      ]
     },
     "execution_count": 10,
     "metadata": {},
     "output_type": "execute_result"
    },
    {
     "name": "stderr",
     "output_type": "stream",
     "text": [
      "2025-05-11 09:55:29.124 python[1937:23823] NewtNSView::dealloc: softLock still hold @ dealloc!\n"
     ]
    }
   ],
   "source": [
    "time.sleep(3)\n",
    "\n",
    "py5_tools.screenshot(hook_post_draw=True)"
   ]
  },
  {
   "cell_type": "code",
   "execution_count": null,
   "id": "c29cd5a7-0e5b-4b50-94a6-3af9b5df0e07",
   "metadata": {
    "editable": true,
    "slideshow": {
     "slide_type": ""
    },
    "tags": []
   },
   "outputs": [],
   "source": []
  }
 ],
 "metadata": {
  "jupytext": {
   "formats": "ipynb,md:myst"
  },
  "kernelspec": {
   "display_name": "Python 3 (ipykernel)",
   "language": "python",
   "name": "python3"
  },
  "language_info": {
   "codemirror_mode": {
    "name": "ipython",
    "version": 3
   },
   "file_extension": ".py",
   "mimetype": "text/x-python",
   "name": "python",
   "nbconvert_exporter": "python",
   "pygments_lexer": "ipython3",
   "version": "3.9.22"
  },
  "widgets": {
   "application/vnd.jupyter.widget-state+json": {
    "state": {},
    "version_major": 2,
    "version_minor": 0
   }
  }
 },
 "nbformat": 4,
 "nbformat_minor": 5
}
