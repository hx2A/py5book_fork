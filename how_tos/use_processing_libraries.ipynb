{
 "cells": [
  {
   "cell_type": "markdown",
   "id": "b763406a-5f2f-45e1-a65d-c39d7f079a68",
   "metadata": {
    "editable": true,
    "slideshow": {
     "slide_type": ""
    },
    "tags": []
   },
   "source": [
    "# How to Use Processing Libraries\n",
    "\n",
    "This is an introduction to py5's integration with [Processing Libraries](https://processing.org/reference/libraries)."
   ]
  },
  {
   "cell_type": "markdown",
   "id": "3a7eb199-c082-479b-b3f7-3cca98347918",
   "metadata": {
    "editable": true,
    "slideshow": {
     "slide_type": ""
    },
    "tags": []
   },
   "source": [
    "## Processing Libraries\n",
    "\n",
    "Processing offers a [collection of community maintained libraries](https://processing.org/reference/libraries), implemented in Java, that can add extra features to a Processing Sketch. Because py5 is built around the Processing Java code, these community maintained libraries can in theory work with py5. In reality, not all of them work perfectly with py5, but with a bit of effort and experimentation one can often use many of them productively in a py5 Sketch."
   ]
  },
  {
   "cell_type": "markdown",
   "id": "ade95965-e35f-4e99-aaca-5bde258bdb19",
   "metadata": {
    "editable": true,
    "slideshow": {
     "slide_type": ""
    },
    "tags": []
   },
   "source": [
    "## Managing Libraries\n",
    "\n",
    "The first step is to download and install a Processing Library. The easiest way to do this is with py5's built in tools for managing Processing Libraries. Start with the [](/reference/py5tools_processing_download_library) function to download a few Processing Libraries."
   ]
  },
  {
   "cell_type": "code",
   "execution_count": null,
   "id": "38f3a5db-3c15-4b73-a375-372c33ecc89e",
   "metadata": {
    "editable": true,
    "slideshow": {
     "slide_type": ""
    },
    "tags": [
     "remove-cell"
    ]
   },
   "outputs": [],
   "source": [
    "import time"
   ]
  },
  {
   "cell_type": "code",
   "execution_count": null,
   "id": "40012288-45e4-4968-aecb-44354e77a799",
   "metadata": {
    "editable": true,
    "slideshow": {
     "slide_type": ""
    },
    "tags": []
   },
   "outputs": [],
   "source": [
    "import py5_tools\n",
    "\n",
    "py5_tools.processing.download_library(\"PeasyCam\")"
   ]
  },
  {
   "cell_type": "code",
   "execution_count": null,
   "id": "25f50a52-db74-4071-9182-b095a29375c3",
   "metadata": {
    "editable": true,
    "slideshow": {
     "slide_type": ""
    },
    "tags": []
   },
   "outputs": [],
   "source": [
    "py5_tools.processing.download_library('JavaFX')"
   ]
  },
  {
   "cell_type": "markdown",
   "id": "5514aba3-ac6e-44a9-9a94-ba510949dfd9",
   "metadata": {
    "editable": true,
    "slideshow": {
     "slide_type": ""
    },
    "tags": []
   },
   "source": [
    "You can use the [](/reference/py5tools_processing_library_storage_dir) method to get the location of where these libraries are stored. This location is comparable to where other Python libraries will store downloaded files."
   ]
  },
  {
   "cell_type": "code",
   "execution_count": null,
   "id": "d40d0c23-05b1-44a4-8d8d-85a8b46475b3",
   "metadata": {
    "editable": true,
    "slideshow": {
     "slide_type": ""
    },
    "tags": []
   },
   "outputs": [],
   "source": [
    "py5_tools.processing.library_storage_dir()"
   ]
  },
  {
   "cell_type": "markdown",
   "id": "a071da34-5063-405d-a8fc-d4a25845daed",
   "metadata": {
    "editable": true,
    "slideshow": {
     "slide_type": ""
    },
    "tags": []
   },
   "source": [
    "The default location of this directory for Windows users is in the `AppData/Local/py5/processing-libraries` subdirectory of your home directory. For Linux and MacOS users, it is in your `.cache/py5/processing-libraries` subdirectory. If you'd like to move this someplace else, set the `PY5_HOME` environment variable to your preferred location.\n",
    "\n",
    "This directory is intended to be a place that py5 maintains, so please don't directly add, edit, or remove files from this directory. If you have your own jar files you'd like to add to a Sketch, put them in a `jars` subdirectory relative to the current working directory of your Python code. Or use the `PY5_JARS` environment variable to point to a directory of jar files that you manage yourself.\n",
    "\n",
    "To get a list of currently installed libraries, use [](/reference/py5tools_processing_installed_libraries)."
   ]
  },
  {
   "cell_type": "code",
   "execution_count": null,
   "id": "ce55ed97-faba-43bb-af1b-43ef5872ef3c",
   "metadata": {
    "editable": true,
    "slideshow": {
     "slide_type": ""
    },
    "tags": []
   },
   "outputs": [],
   "source": [
    "py5_tools.processing.installed_libraries()"
   ]
  },
  {
   "cell_type": "markdown",
   "id": "533db0a2-aadc-4bd0-be48-083818ef6b9b",
   "metadata": {
    "editable": true,
    "slideshow": {
     "slide_type": ""
    },
    "tags": []
   },
   "source": [
    "You can use [](/reference/py5tools_processing_remove_library) if you want to remove a previously installed library. Use [](/reference/py5tools_processing_check_library) to test if a library has already been installed, although calling [](/reference/py5tools_processing_download_library) multiple times is also acceptable. It won't re-download a library if py5 sees that it has already downloaded the most recent version."
   ]
  },
  {
   "cell_type": "code",
   "execution_count": null,
   "id": "e79b4a47-52fe-42e3-a641-8c04f1978c5e",
   "metadata": {
    "editable": true,
    "slideshow": {
     "slide_type": ""
    },
    "tags": []
   },
   "outputs": [],
   "source": [
    "if not py5_tools.processing.check_library(\"PeasyCam\"):\n",
    "    py5_tools.processing.download_library(\"PeasyCam\")"
   ]
  },
  {
   "cell_type": "markdown",
   "id": "a72089d6-b3a2-4ec3-9404-f246e87422a4",
   "metadata": {
    "editable": true,
    "slideshow": {
     "slide_type": ""
    },
    "tags": []
   },
   "source": [
    "## Using Processing Libraries\n",
    "\n",
    "Once your Processing Library has been installed, you can import py5 and begin your Sketch code. Importing py5 will add the installed Processing Libraries to the classpath. This can only be done once, so if you want to install anything else later, you'll need to restart your Python session."
   ]
  },
  {
   "cell_type": "code",
   "execution_count": null,
   "id": "6d476db3-8fea-4952-98bb-e9d816d3cc5d",
   "metadata": {
    "editable": true,
    "slideshow": {
     "slide_type": ""
    },
    "tags": []
   },
   "outputs": [],
   "source": [
    "import py5"
   ]
  },
  {
   "cell_type": "markdown",
   "id": "cec619a2-7b6c-47cc-8d37-39f48a4e623d",
   "metadata": {
    "editable": true,
    "slideshow": {
     "slide_type": ""
    },
    "tags": []
   },
   "source": [
    "For this PeasyCam example, our next task is to import the PeasyCam Java class. JPype makes this easy to do and very much like regular Python imports."
   ]
  },
  {
   "cell_type": "code",
   "execution_count": null,
   "id": "1395972c-3940-4bb5-b99e-a70a644cdb2f",
   "metadata": {
    "editable": true,
    "slideshow": {
     "slide_type": ""
    },
    "tags": []
   },
   "outputs": [],
   "source": [
    "from peasy import PeasyCam"
   ]
  },
  {
   "cell_type": "markdown",
   "id": "8febd5cc-28ef-484e-8a82-d47d912aa8b8",
   "metadata": {
    "editable": true,
    "slideshow": {
     "slide_type": ""
    },
    "tags": []
   },
   "source": [
    "Now, our actual Sketch code."
   ]
  },
  {
   "cell_type": "code",
   "execution_count": null,
   "id": "a8f34705-4262-4c86-af18-eb5a6d74470e",
   "metadata": {
    "editable": true,
    "slideshow": {
     "slide_type": ""
    },
    "tags": []
   },
   "outputs": [],
   "source": [
    "def setup():\n",
    "    py5.size(500, 500, py5.P3D)\n",
    "    PeasyCam(py5.get_current_sketch(), 500)\n",
    "\n",
    "def draw():\n",
    "    py5.background(128)\n",
    "    py5.box(200)"
   ]
  },
  {
   "cell_type": "markdown",
   "id": "2278e894-704e-4712-a548-bcb0b239b5a9",
   "metadata": {
    "editable": true,
    "slideshow": {
     "slide_type": ""
    },
    "tags": []
   },
   "source": [
    "In this example, the `PeasyCam(py5.get_current_sketch(), 500)` code will link a PeasyCam instance to the py5 Sketch. Everything else is typical py5 code.\n",
    "\n",
    "Our last step is to run the Sketch and admire our work:"
   ]
  },
  {
   "cell_type": "code",
   "execution_count": null,
   "id": "dd32bff8-aced-4037-9c22-61d17381b58d",
   "metadata": {
    "editable": true,
    "slideshow": {
     "slide_type": ""
    },
    "tags": [
     "remove-output"
    ]
   },
   "outputs": [],
   "source": [
    "py5.run_sketch()"
   ]
  },
  {
   "cell_type": "code",
   "execution_count": null,
   "id": "4de1ebab-7980-4c21-9980-ddbe0c94b0c2",
   "metadata": {
    "editable": true,
    "slideshow": {
     "slide_type": ""
    },
    "tags": [
     "remove-cell"
    ]
   },
   "outputs": [],
   "source": [
    "time.sleep(1)\n",
    "py5.exit_sketch()\n",
    "time.sleep(1)"
   ]
  },
  {
   "cell_type": "markdown",
   "id": "b23ec2ea-12a9-4b05-83e0-f5c4eea3a9ef",
   "metadata": {
    "editable": true,
    "slideshow": {
     "slide_type": ""
    },
    "tags": []
   },
   "source": [
    "## JavaFX\n",
    "\n",
    "The tools described on this page provide an avenue for using Processing's JavaFX renderer. The code and libraries for JavaFX are quite large so they must be installed separately.\n",
    "\n",
    "Once installed, you can use the JavaFX renderer. It provides excellent 2D graphics without the use of OpenGL."
   ]
  },
  {
   "cell_type": "code",
   "execution_count": null,
   "id": "fb25cf2e-5df1-433c-a884-b9fbe9caa8de",
   "metadata": {
    "editable": true,
    "slideshow": {
     "slide_type": ""
    },
    "tags": []
   },
   "outputs": [],
   "source": [
    "def setup():\n",
    "    py5.size(500, 500, py5.FX2D)\n",
    "\n",
    "def draw():\n",
    "    py5.rect(py5.mouse_x, py5.mouse_y, 10, 10)"
   ]
  },
  {
   "cell_type": "code",
   "execution_count": null,
   "id": "776caff6-6359-4288-a979-09c3b2b302eb",
   "metadata": {
    "editable": true,
    "slideshow": {
     "slide_type": ""
    },
    "tags": [
     "remove-output"
    ]
   },
   "outputs": [],
   "source": [
    "py5.run_sketch()"
   ]
  },
  {
   "cell_type": "code",
   "execution_count": null,
   "id": "ee57fd5e-8e85-46e6-a4b7-068ed534d9fc",
   "metadata": {
    "editable": true,
    "slideshow": {
     "slide_type": ""
    },
    "tags": [
     "remove-cell"
    ]
   },
   "outputs": [],
   "source": [
    "time.sleep(1)\n",
    "py5.exit_sketch()\n",
    "time.sleep(1)"
   ]
  },
  {
   "cell_type": "markdown",
   "id": "d934c105-029e-42be-8cb2-74c6b23cacbe",
   "metadata": {
    "editable": true,
    "slideshow": {
     "slide_type": ""
    },
    "tags": []
   },
   "source": [
    "### JavaFX Limitations\n",
    "\n",
    "JavaFX with py5 has some known limitations.\n",
    "\n",
    "With JavaFX you are limited to running one Sketch per Python session. For a Python script this is irrelevant but you might not want to use JavaFX in a Jupyter Notebook, where you would typically run multiple Sketches. In addition, on MacOS the JavaFX Sketch window might not get focus when run from a Jupyter Notebook, which is a nuisance. Other than that, this library seems to work just fine with py5."
   ]
  }
 ],
 "metadata": {
  "jupytext": {
   "formats": "ipynb,md:myst"
  },
  "kernelspec": {
   "display_name": "Python 3 (ipykernel)",
   "language": "python",
   "name": "python3"
  },
  "language_info": {
   "codemirror_mode": {
    "name": "ipython",
    "version": 3
   },
   "file_extension": ".py",
   "mimetype": "text/x-python",
   "name": "python",
   "nbconvert_exporter": "python",
   "pygments_lexer": "ipython3",
   "version": "3.9.22"
  }
 },
 "nbformat": 4,
 "nbformat_minor": 5
}
